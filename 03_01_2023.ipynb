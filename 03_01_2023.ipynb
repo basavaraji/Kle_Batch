{
  "nbformat": 4,
  "nbformat_minor": 0,
  "metadata": {
    "colab": {
      "provenance": []
    },
    "kernelspec": {
      "name": "python3",
      "display_name": "Python 3"
    },
    "language_info": {
      "name": "python"
    }
  },
  "cells": [
    {
      "cell_type": "code",
      "execution_count": null,
      "metadata": {
        "colab": {
          "base_uri": "https://localhost:8080/"
        },
        "id": "4Ae0iKz_N5wy",
        "outputId": "ac41d5e0-7efc-44d3-c8c9-a4d550ade0c9"
      },
      "outputs": [
        {
          "output_type": "stream",
          "name": "stdout",
          "text": [
            "4.555555555555555\n"
          ]
        }
      ],
      "source": [
        "a=\"123456785\"\n",
        "sum=0\n",
        "c=0\n",
        "for i in a:\n",
        "  sum=sum+int(i)\n",
        "  c=c+1\n",
        "print(sum/c)"
      ]
    },
    {
      "cell_type": "code",
      "source": [
        "a=\"ram@123456\"\n",
        "sum=0\n",
        "c=0\n",
        "for i in a:\n",
        "  if i.isdigit():\n",
        "    sum=sum+int(i)\n",
        "    c=c+1\n",
        "print(sum)"
      ],
      "metadata": {
        "colab": {
          "base_uri": "https://localhost:8080/"
        },
        "id": "ELFGf1j-QnYe",
        "outputId": "a556044b-38d5-47b1-878f-3a01f12722e7"
      },
      "execution_count": null,
      "outputs": [
        {
          "output_type": "stream",
          "name": "stdout",
          "text": [
            "21\n"
          ]
        }
      ]
    },
    {
      "cell_type": "code",
      "source": [
        "b=\"ram avin kumar sundari sundae\"\n",
        "wd=b.split()\n",
        "for i in wd:\n",
        "  c=0\n",
        "  for j in i:\n",
        "    c +=1\n",
        "  print(c)\n",
        "\n",
        "\n",
        "\n",
        "\n"
      ],
      "metadata": {
        "colab": {
          "base_uri": "https://localhost:8080/"
        },
        "id": "pn3rV9LYSCOi",
        "outputId": "0b7bd8b3-60e6-4901-cc66-71ee6fdfde89"
      },
      "execution_count": null,
      "outputs": [
        {
          "output_type": "stream",
          "name": "stdout",
          "text": [
            "3\n",
            "4\n",
            "5\n",
            "7\n",
            "6\n"
          ]
        }
      ]
    },
    {
      "cell_type": "code",
      "source": [
        "b=\"ram avin kumar sundari sundae\"\n",
        "wd=b.split()\n",
        "for i in wd:\n",
        "  print(i,len(i))"
      ],
      "metadata": {
        "colab": {
          "base_uri": "https://localhost:8080/"
        },
        "id": "zwYlcOyHZJpA",
        "outputId": "e8444a2d-37f0-49ae-9b75-a55fe4fb404c"
      },
      "execution_count": null,
      "outputs": [
        {
          "output_type": "stream",
          "name": "stdout",
          "text": [
            "ram 3\n",
            "avin 4\n",
            "kumar 5\n",
            "sundari 7\n",
            "sundae 6\n"
          ]
        }
      ]
    },
    {
      "cell_type": "code",
      "source": [
        "# Practice example\n",
        "count=0\n",
        "sum=0\n",
        "a=\"123456\"\n",
        "for i in a:\n",
        "  sum=sum+int(i)\n",
        "  count=count+1\n",
        "print(\"avg\",sum/count)"
      ],
      "metadata": {
        "colab": {
          "base_uri": "https://localhost:8080/"
        },
        "id": "GcJ0TUoi4dmC",
        "outputId": "a5419257-d444-4aa5-8326-df837ff608e4"
      },
      "execution_count": null,
      "outputs": [
        {
          "output_type": "stream",
          "name": "stdout",
          "text": [
            "avg 3.5\n"
          ]
        }
      ]
    },
    {
      "cell_type": "code",
      "source": [
        "sum=0\n",
        "a=\"Ramya@123456\"\n",
        "for i in a:\n",
        "  if i.isdigit():\n",
        "    sum=sum+int(i)\n",
        "print(sum)\n",
        "print(\"avg\",sum/6)\n"
      ],
      "metadata": {
        "colab": {
          "base_uri": "https://localhost:8080/"
        },
        "id": "caxyor9q6dOy",
        "outputId": "1f76ca0c-3631-4fe2-cb9e-4a32454b10bc"
      },
      "execution_count": null,
      "outputs": [
        {
          "output_type": "stream",
          "name": "stdout",
          "text": [
            "21\n",
            "avg 3.5\n"
          ]
        }
      ]
    },
    {
      "cell_type": "code",
      "source": [
        "b=\"Rama Ravana Sita Sundra Sundri\"\n",
        "print(b.split())"
      ],
      "metadata": {
        "colab": {
          "base_uri": "https://localhost:8080/"
        },
        "id": "0qoH5s727ktG",
        "outputId": "1e361ef9-276b-4996-ff3c-0ce5c8eff1d7"
      },
      "execution_count": null,
      "outputs": [
        {
          "output_type": "stream",
          "name": "stdout",
          "text": [
            "['Rama', 'Ravana', 'Sita', 'Sundra', 'Sundri']\n"
          ]
        }
      ]
    },
    {
      "cell_type": "code",
      "source": [
        "b=\"Rama Ravana Sita Sundra Sundri\"\n",
        "c=b.split()\n",
        "for i in c:\n",
        "  print(i,len(i))"
      ],
      "metadata": {
        "colab": {
          "base_uri": "https://localhost:8080/"
        },
        "id": "dKgthkx18Ejm",
        "outputId": "121ddcd6-a8a5-4f79-92c2-db695461d07e"
      },
      "execution_count": null,
      "outputs": [
        {
          "output_type": "stream",
          "name": "stdout",
          "text": [
            "Rama 4\n",
            "Ravana 6\n",
            "Sita 4\n",
            "Sundra 6\n",
            "Sundri 6\n"
          ]
        }
      ]
    },
    {
      "cell_type": "code",
      "source": [
        "b=\"Rama Ravana Sita Sundra Sundri\"\n",
        "c=b.split()\n",
        "for i in c:\n",
        "  count=0\n",
        "  for j in i:\n",
        "    count+=1\n",
        "  print(i,count)"
      ],
      "metadata": {
        "colab": {
          "base_uri": "https://localhost:8080/"
        },
        "id": "LhKr0UKO9vhZ",
        "outputId": "c4190b9c-1dd6-423c-eb7c-dbb56df244c9"
      },
      "execution_count": null,
      "outputs": [
        {
          "output_type": "stream",
          "name": "stdout",
          "text": [
            "Rama 4\n",
            "Ravana 6\n",
            "Sita 4\n",
            "Sundra 6\n",
            "Sundri 6\n"
          ]
        }
      ]
    }
  ]
}